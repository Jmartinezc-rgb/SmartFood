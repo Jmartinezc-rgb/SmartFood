{
 "cells": [
  {
   "cell_type": "markdown",
   "metadata": {},
   "source": [
    "# Generación de un nuevo CSV de Tripletas basado en relaciones nutricionales e ingredientes  \n",
    "*(Usando la columna `name` como identificador)*\n",
    "\n",
    "El siguiente código hace lo siguiente:\n",
    "1. Carga el CSV `RAW_recipes.csv` y elimina las filas sin nombre.\n",
    "2. Convierte las columnas `ingredients` y `nutrition` de cadenas a listas Python.\n",
    "3. Separa la lista nutricional en 7 columnas:\n",
    "   - calories  \n",
    "   - total_fat_pdv  \n",
    "   - sugar_pdv  \n",
    "   - sodium_pdv  \n",
    "   - protein_pdv  \n",
    "   - saturated_fat_pdv  \n",
    "   - carbs_pdv  \n",
    "4. Define funciones para clasificar cada valor nutricional en bajo, normal o alto, según los umbrales establecidos.\n",
    "5. Genera tripletas:\n",
    "   - Una tripleta por cada ingrediente, usando la relación `has_ingredient`.  \n",
    "   - Una tripleta para cada nutriente, asignando la relación correspondiente (por ejemplo, `low_calories`, `normal_calories` o `high_calories`).\n",
    "6. Guarda todas las tripletas en un archivo `new_triplets.csv`."
   ]
  },
  {
   "cell_type": "markdown",
   "metadata": {},
   "source": []
  },
  {
   "cell_type": "code",
   "execution_count": 1,
   "metadata": {},
   "outputs": [],
   "source": [
    "import pandas as pd\n",
    "import ast\n",
    "import numpy as np\n",
    "\n",
    "# 1. Cargar el CSV y eliminar filas sin nombre\n",
    "df = pd.read_csv(\"foodcom_data/RAW_recipes.csv\")\n",
    "df = df.dropna(subset=['name'])  # Elimina filas donde 'name' sea NaN\n"
   ]
  },
  {
   "cell_type": "code",
   "execution_count": 2,
   "metadata": {},
   "outputs": [],
   "source": [
    "\n",
    "# 2. Convertir las columnas 'ingredients' y 'nutrition' de cadenas a listas\n",
    "df['ingredient_list'] = df['ingredients'].apply(ast.literal_eval)\n",
    "df['nutrition_list'] = df['nutrition'].apply(ast.literal_eval)\n"
   ]
  },
  {
   "cell_type": "code",
   "execution_count": 3,
   "metadata": {},
   "outputs": [],
   "source": [
    "\n",
    "# 3. Separar la columna 'nutrition_list' en 7 columnas\n",
    "nutri_cols = [\n",
    "    'calories',\n",
    "    'total_fat_pdv',\n",
    "    'sugar_pdv',\n",
    "    'sodium_pdv',\n",
    "    'protein_pdv',\n",
    "    'saturated_fat_pdv',\n",
    "    'carbs_pdv'\n",
    "]\n",
    "df[nutri_cols] = pd.DataFrame(df['nutrition_list'].tolist(), index=df.index)\n"
   ]
  },
  {
   "cell_type": "code",
   "execution_count": 4,
   "metadata": {},
   "outputs": [],
   "source": [
    "\n",
    "# 4. Función para clasificar valores nutricionales\n",
    "def classify_value(value, thresholds, low_label, normal_label, high_label):\n",
    "    \"\"\"\n",
    "    thresholds: tuple (low_threshold, high_threshold)\n",
    "    - Si value < low_threshold -> low_label\n",
    "    - Si low_threshold <= value <= high_threshold -> normal_label\n",
    "    - Si value > high_threshold -> high_label\n",
    "    \"\"\"\n",
    "    low_th, high_th = thresholds\n",
    "    if value < low_th:\n",
    "        return low_label, value\n",
    "    elif value <= high_th:\n",
    "        return normal_label, value\n",
    "    else:\n",
    "        return high_label, value\n",
    "\n",
    "# Umbrales según tus reglas:\n",
    "nutri_rules = {\n",
    "    'calories': ((174, 520), \"low_calories\", \"normal_calories\", \"high_calories\"),\n",
    "    'total_fat_pdv': ((8, 41), \"low_fat\", \"normal_fat\", \"high_fat\"),\n",
    "    'sugar_pdv': ((9, 68), \"low_sugar\", \"normal_sugar\", \"high_sugar\"),\n",
    "    'sodium_pdv': ((5, 33), \"low_sodium\", \"normal_sodium\", \"high_sodium\"),\n",
    "    'protein_pdv': ((7, 51), \"low_protein\", \"normal_protein\", \"high_protein\"),\n",
    "    'saturated_fat_pdv': ((7, 52), \"low_saturated_fat\", \"normal_saturated_fat\", \"high_saturated_fat\"),\n",
    "    'carbs_pdv': ((4, 16), \"low_carbs\", \"normal_carbs\", \"high_carbs\")\n",
    "}\n"
   ]
  },
  {
   "cell_type": "code",
   "execution_count": 5,
   "metadata": {},
   "outputs": [],
   "source": [
    "\n",
    "# 5. Crear la lista de tripletas: [subject, relation, object]\n",
    "triplets = []\n",
    "\n",
    "# 5.1. Generar tripletas \"has_ingredient\" usando 'name' como identificador\n",
    "for _, row in df.iterrows():\n",
    "    # Asegurarse de que 'name' es una cadena (ya se eliminó NaN, pero por precaución)\n",
    "    if not isinstance(row['name'], str):\n",
    "        continue\n",
    "    recipe_name = row['name'].strip().lower().replace(\" \", \"_\")\n",
    "    \n",
    "    # Para cada ingrediente en la lista de ingredientes\n",
    "    for ing in row['ingredient_list']:\n",
    "        if isinstance(ing, str):\n",
    "            ingredient = ing.strip().lower().replace(\" \", \"_\")\n",
    "            triplets.append([recipe_name, \"has_ingredient\", ingredient])\n",
    "        else:\n",
    "            continue\n",
    "\n",
    "# 5.2. Generar tripletas nutricionales (por cada nutriente, se asigna la relación correspondiente)\n",
    "for _, row in df.iterrows():\n",
    "    if not isinstance(row['name'], str):\n",
    "        continue\n",
    "    recipe_name = row['name'].strip().lower().replace(\" \", \"_\")\n",
    "    for col in nutri_cols:\n",
    "        thresholds, low_label, normal_label, high_label = nutri_rules[col]\n",
    "        relation_label, value = classify_value(row[col], thresholds, low_label, normal_label, high_label)\n",
    "        triplets.append([recipe_name, relation_label, str(value)])\n"
   ]
  },
  {
   "cell_type": "code",
   "execution_count": 6,
   "metadata": {},
   "outputs": [],
   "source": [
    "\n",
    "# 6. Guardar las tripletas en un nuevo CSV\n",
    "triplets_df = pd.DataFrame(triplets, columns=[\"subject\", \"relation\", \"object\"])\n",
    "triplets_df.to_csv(\"new_triplets.csv\", index=False)"
   ]
  }
 ],
 "metadata": {
  "kernelspec": {
   "display_name": "ampligraph_env",
   "language": "python",
   "name": "python3"
  },
  "language_info": {
   "codemirror_mode": {
    "name": "ipython",
    "version": 3
   },
   "file_extension": ".py",
   "mimetype": "text/x-python",
   "name": "python",
   "nbconvert_exporter": "python",
   "pygments_lexer": "ipython3",
   "version": "3.8.20"
  }
 },
 "nbformat": 4,
 "nbformat_minor": 2
}
